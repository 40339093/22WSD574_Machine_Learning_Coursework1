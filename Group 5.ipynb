{
 "cells": [
  {
   "cell_type": "code",
   "execution_count": 1,
   "metadata": {},
   "outputs": [
    {
     "name": "stdout",
     "output_type": "stream",
     "text": [
      "   Product_Code Warehouse Product_Category       Date Order_Demand\n",
      "0  Product_0993    Whse_J     Category_028  2012/7/27         100 \n",
      "1  Product_0979    Whse_J     Category_028  2012/1/19         500 \n",
      "2  Product_0979    Whse_J     Category_028   2012/2/3         500 \n",
      "3  Product_0979    Whse_J     Category_028   2012/2/9         500 \n",
      "4  Product_0979    Whse_J     Category_028   2012/3/2         500 \n",
      "        Product_Code Warehouse Product_Category       Date Order_Demand\n",
      "count        1048575   1048575          1048575    1037336      1048575\n",
      "unique          2160         4               33       1729         3828\n",
      "top     Product_1359    Whse_J     Category_019  2013/9/27        1000 \n",
      "freq           16936    764447           481099       2075       112682\n"
     ]
    }
   ],
   "source": [
    "import pandas as pd\n",
    "import numpy as np\n",
    "import matplotlib as plt\n",
    "\n",
    "data_df = pd.read_csv(\"data.csv\")\n",
    "\n",
    "print(data_df.head(5))\n",
    "print(data_df.describe())"
   ]
  },
  {
   "cell_type": "code",
   "execution_count": 9,
   "metadata": {},
   "outputs": [],
   "source": [
    "data_df.pivot_table(values=\"Order_Demand\", index=\"Product_Category\", aggfunc=[np.sum, np.mean, np.median])"
   ]
  },
  {
   "cell_type": "code",
   "execution_count": 14,
   "metadata": {},
   "outputs": [
    {
     "data": {
      "text/plain": "Product_Code  Warehouse  Product_Category  Date       Order_Demand\nProduct_0058  Whse_J     Category_019      2012/2/14  1               23\n                                           2013/6/28  1               19\n                                           2014/3/14  1               18\n                                           2012/4/16  1               17\n                                           2015/4/22  1               16\n                                                                      ..\nProduct_1299  Whse_A     Category_019      2013/5/13  6600             1\n                                                      1000             1\n                                           2013/4/9   100              1\n                                           2013/4/5   7500             1\nProduct_2151  Whse_J     Category_019      2016/9/8   10               1\nName: count, Length: 386926, dtype: int64"
     },
     "execution_count": 14,
     "metadata": {},
     "output_type": "execute_result"
    }
   ],
   "source": [
    "print(data_df.dtypes)"
   ]
  },
  {
   "cell_type": "markdown",
   "metadata": {},
   "source": []
  }
 ],
 "metadata": {
  "kernelspec": {
   "display_name": "Python 3 (ipykernel)",
   "language": "python",
   "name": "python3"
  },
  "language_info": {
   "codemirror_mode": {
    "name": "ipython",
    "version": 3
   },
   "file_extension": ".py",
   "mimetype": "text/x-python",
   "name": "python",
   "nbconvert_exporter": "python",
   "pygments_lexer": "ipython3",
   "version": "3.9.6"
  }
 },
 "nbformat": 4,
 "nbformat_minor": 1
}
