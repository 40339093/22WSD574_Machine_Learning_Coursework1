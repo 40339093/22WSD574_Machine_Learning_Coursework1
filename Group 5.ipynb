{
 "cells": [
  {
   "cell_type": "code",
   "execution_count": 1,
   "metadata": {},
   "outputs": [
    {
     "name": "stdout",
     "output_type": "stream",
     "text": [
      "   Product_Code Warehouse Product_Category       Date Order_Demand\n",
      "0  Product_0993    Whse_J     Category_028  2012/7/27         100 \n",
      "1  Product_0979    Whse_J     Category_028  2012/1/19         500 \n",
      "2  Product_0979    Whse_J     Category_028   2012/2/3         500 \n",
      "3  Product_0979    Whse_J     Category_028   2012/2/9         500 \n",
      "4  Product_0979    Whse_J     Category_028   2012/3/2         500 \n",
      "        Product_Code Warehouse Product_Category       Date Order_Demand\n",
      "count        1048575   1048575          1048575    1037336      1048575\n",
      "unique          2160         4               33       1729         3828\n",
      "top     Product_1359    Whse_J     Category_019  2013/9/27        1000 \n",
      "freq           16936    764447           481099       2075       112682\n"
     ]
    }
   ],
   "source": [
    "import pandas as pd\n",
    "import numpy as np\n",
    "import matplotlib as plt\n",
    "\n",
    "data_df = pd.read_csv(\"data.csv\")\n",
    "\n",
    "print(data_df.head(5))\n",
    "print(data_df.describe())"
   ]
  },
  {
   "cell_type": "code",
   "execution_count": 31,
   "metadata": {},
   "outputs": [
    {
     "data": {
      "text/plain": "                          sum          mean       median          min   \n                 Order_Demand  Order_Demand Order_Demand Order_Demand   \nProduct_Category                                                        \nCategory_001          1757473     18.038130            5            1  \\\nCategory_002              628      8.155844            4            1   \nCategory_003           392950     95.122246           32            1   \nCategory_004            99046    302.892966          200            1   \nCategory_005        199674520   1976.916725          500           10   \nCategory_006        405571330  11501.654189         3000            1   \nCategory_007        128691531   1570.749799          100            1   \nCategory_008            17568     11.305019            4            1   \nCategory_009          3782141    192.976223           50            1   \nCategory_010            22554     23.179856            7            1   \nCategory_011          2892842    125.231255           10            1   \nCategory_012            70006     61.462687           20            1   \nCategory_013           309618     83.185922           20            1   \nCategory_014              100      3.846154            2            1   \nCategory_015           834505     36.647710            8            1   \nCategory_016            16850    455.405405           32            1   \nCategory_017            49457     80.548860            4            1   \nCategory_018            46023      8.853982            4            1   \nCategory_019       4240159257   9492.929280         1750            1   \nCategory_020          2393813    687.482194          200            1   \nCategory_021          4480570     86.844533           10            1   \nCategory_022           606051     70.161033           15            1   \nCategory_023          3337724    423.730354          100            1   \nCategory_024          1057317     51.083052            6            1   \nCategory_025           486000  13885.714286         9000         3000   \nCategory_026           281996     19.324059           10            1   \nCategory_027              103      4.120000            2            1   \nCategory_028         49055354   1682.340067          250            1   \nCategory_029            23979     35.736215           20            1   \nCategory_030         40966555   3154.185017         1000            1   \nCategory_031            13022      5.839462            3            1   \nCategory_032          4473048    482.061429           36            2   \nCategory_033         42610000  23195.427327        10000        10000   \n\n                          max        count  \n                 Order_Demand Order_Demand  \nProduct_Category                            \nCategory_001             2075        97431  \nCategory_002               60           77  \nCategory_003             1860         4131  \nCategory_004             2400          327  \nCategory_005           500000       101003  \nCategory_006          1000000        35262  \nCategory_007          1144000        81930  \nCategory_008              200         1554  \nCategory_009            26759        19599  \nCategory_010              880          973  \nCategory_011            34920        23100  \nCategory_012             1777         1139  \nCategory_013            15850         3722  \nCategory_014               20           26  \nCategory_015            30000        22771  \nCategory_016            11616           37  \nCategory_017             4000          614  \nCategory_018              485         5198  \nCategory_019          4000000       446665  \nCategory_020            35000         3482  \nCategory_021            20000        51593  \nCategory_022             6882         8638  \nCategory_023            80000         7877  \nCategory_024            11800        20698  \nCategory_025            64000           35  \nCategory_026             5000        14593  \nCategory_027               24           25  \nCategory_028           345200        29159  \nCategory_029              320          671  \nCategory_030           837000        12988  \nCategory_031              198         2230  \nCategory_032           150000         9279  \nCategory_033           200000         1837  ",
      "text/html": "<div>\n<style scoped>\n    .dataframe tbody tr th:only-of-type {\n        vertical-align: middle;\n    }\n\n    .dataframe tbody tr th {\n        vertical-align: top;\n    }\n\n    .dataframe thead tr th {\n        text-align: left;\n    }\n\n    .dataframe thead tr:last-of-type th {\n        text-align: right;\n    }\n</style>\n<table border=\"1\" class=\"dataframe\">\n  <thead>\n    <tr>\n      <th></th>\n      <th>sum</th>\n      <th>mean</th>\n      <th>median</th>\n      <th>min</th>\n      <th>max</th>\n      <th>count</th>\n    </tr>\n    <tr>\n      <th></th>\n      <th>Order_Demand</th>\n      <th>Order_Demand</th>\n      <th>Order_Demand</th>\n      <th>Order_Demand</th>\n      <th>Order_Demand</th>\n      <th>Order_Demand</th>\n    </tr>\n    <tr>\n      <th>Product_Category</th>\n      <th></th>\n      <th></th>\n      <th></th>\n      <th></th>\n      <th></th>\n      <th></th>\n    </tr>\n  </thead>\n  <tbody>\n    <tr>\n      <th>Category_001</th>\n      <td>1757473</td>\n      <td>18.038130</td>\n      <td>5</td>\n      <td>1</td>\n      <td>2075</td>\n      <td>97431</td>\n    </tr>\n    <tr>\n      <th>Category_002</th>\n      <td>628</td>\n      <td>8.155844</td>\n      <td>4</td>\n      <td>1</td>\n      <td>60</td>\n      <td>77</td>\n    </tr>\n    <tr>\n      <th>Category_003</th>\n      <td>392950</td>\n      <td>95.122246</td>\n      <td>32</td>\n      <td>1</td>\n      <td>1860</td>\n      <td>4131</td>\n    </tr>\n    <tr>\n      <th>Category_004</th>\n      <td>99046</td>\n      <td>302.892966</td>\n      <td>200</td>\n      <td>1</td>\n      <td>2400</td>\n      <td>327</td>\n    </tr>\n    <tr>\n      <th>Category_005</th>\n      <td>199674520</td>\n      <td>1976.916725</td>\n      <td>500</td>\n      <td>10</td>\n      <td>500000</td>\n      <td>101003</td>\n    </tr>\n    <tr>\n      <th>Category_006</th>\n      <td>405571330</td>\n      <td>11501.654189</td>\n      <td>3000</td>\n      <td>1</td>\n      <td>1000000</td>\n      <td>35262</td>\n    </tr>\n    <tr>\n      <th>Category_007</th>\n      <td>128691531</td>\n      <td>1570.749799</td>\n      <td>100</td>\n      <td>1</td>\n      <td>1144000</td>\n      <td>81930</td>\n    </tr>\n    <tr>\n      <th>Category_008</th>\n      <td>17568</td>\n      <td>11.305019</td>\n      <td>4</td>\n      <td>1</td>\n      <td>200</td>\n      <td>1554</td>\n    </tr>\n    <tr>\n      <th>Category_009</th>\n      <td>3782141</td>\n      <td>192.976223</td>\n      <td>50</td>\n      <td>1</td>\n      <td>26759</td>\n      <td>19599</td>\n    </tr>\n    <tr>\n      <th>Category_010</th>\n      <td>22554</td>\n      <td>23.179856</td>\n      <td>7</td>\n      <td>1</td>\n      <td>880</td>\n      <td>973</td>\n    </tr>\n    <tr>\n      <th>Category_011</th>\n      <td>2892842</td>\n      <td>125.231255</td>\n      <td>10</td>\n      <td>1</td>\n      <td>34920</td>\n      <td>23100</td>\n    </tr>\n    <tr>\n      <th>Category_012</th>\n      <td>70006</td>\n      <td>61.462687</td>\n      <td>20</td>\n      <td>1</td>\n      <td>1777</td>\n      <td>1139</td>\n    </tr>\n    <tr>\n      <th>Category_013</th>\n      <td>309618</td>\n      <td>83.185922</td>\n      <td>20</td>\n      <td>1</td>\n      <td>15850</td>\n      <td>3722</td>\n    </tr>\n    <tr>\n      <th>Category_014</th>\n      <td>100</td>\n      <td>3.846154</td>\n      <td>2</td>\n      <td>1</td>\n      <td>20</td>\n      <td>26</td>\n    </tr>\n    <tr>\n      <th>Category_015</th>\n      <td>834505</td>\n      <td>36.647710</td>\n      <td>8</td>\n      <td>1</td>\n      <td>30000</td>\n      <td>22771</td>\n    </tr>\n    <tr>\n      <th>Category_016</th>\n      <td>16850</td>\n      <td>455.405405</td>\n      <td>32</td>\n      <td>1</td>\n      <td>11616</td>\n      <td>37</td>\n    </tr>\n    <tr>\n      <th>Category_017</th>\n      <td>49457</td>\n      <td>80.548860</td>\n      <td>4</td>\n      <td>1</td>\n      <td>4000</td>\n      <td>614</td>\n    </tr>\n    <tr>\n      <th>Category_018</th>\n      <td>46023</td>\n      <td>8.853982</td>\n      <td>4</td>\n      <td>1</td>\n      <td>485</td>\n      <td>5198</td>\n    </tr>\n    <tr>\n      <th>Category_019</th>\n      <td>4240159257</td>\n      <td>9492.929280</td>\n      <td>1750</td>\n      <td>1</td>\n      <td>4000000</td>\n      <td>446665</td>\n    </tr>\n    <tr>\n      <th>Category_020</th>\n      <td>2393813</td>\n      <td>687.482194</td>\n      <td>200</td>\n      <td>1</td>\n      <td>35000</td>\n      <td>3482</td>\n    </tr>\n    <tr>\n      <th>Category_021</th>\n      <td>4480570</td>\n      <td>86.844533</td>\n      <td>10</td>\n      <td>1</td>\n      <td>20000</td>\n      <td>51593</td>\n    </tr>\n    <tr>\n      <th>Category_022</th>\n      <td>606051</td>\n      <td>70.161033</td>\n      <td>15</td>\n      <td>1</td>\n      <td>6882</td>\n      <td>8638</td>\n    </tr>\n    <tr>\n      <th>Category_023</th>\n      <td>3337724</td>\n      <td>423.730354</td>\n      <td>100</td>\n      <td>1</td>\n      <td>80000</td>\n      <td>7877</td>\n    </tr>\n    <tr>\n      <th>Category_024</th>\n      <td>1057317</td>\n      <td>51.083052</td>\n      <td>6</td>\n      <td>1</td>\n      <td>11800</td>\n      <td>20698</td>\n    </tr>\n    <tr>\n      <th>Category_025</th>\n      <td>486000</td>\n      <td>13885.714286</td>\n      <td>9000</td>\n      <td>3000</td>\n      <td>64000</td>\n      <td>35</td>\n    </tr>\n    <tr>\n      <th>Category_026</th>\n      <td>281996</td>\n      <td>19.324059</td>\n      <td>10</td>\n      <td>1</td>\n      <td>5000</td>\n      <td>14593</td>\n    </tr>\n    <tr>\n      <th>Category_027</th>\n      <td>103</td>\n      <td>4.120000</td>\n      <td>2</td>\n      <td>1</td>\n      <td>24</td>\n      <td>25</td>\n    </tr>\n    <tr>\n      <th>Category_028</th>\n      <td>49055354</td>\n      <td>1682.340067</td>\n      <td>250</td>\n      <td>1</td>\n      <td>345200</td>\n      <td>29159</td>\n    </tr>\n    <tr>\n      <th>Category_029</th>\n      <td>23979</td>\n      <td>35.736215</td>\n      <td>20</td>\n      <td>1</td>\n      <td>320</td>\n      <td>671</td>\n    </tr>\n    <tr>\n      <th>Category_030</th>\n      <td>40966555</td>\n      <td>3154.185017</td>\n      <td>1000</td>\n      <td>1</td>\n      <td>837000</td>\n      <td>12988</td>\n    </tr>\n    <tr>\n      <th>Category_031</th>\n      <td>13022</td>\n      <td>5.839462</td>\n      <td>3</td>\n      <td>1</td>\n      <td>198</td>\n      <td>2230</td>\n    </tr>\n    <tr>\n      <th>Category_032</th>\n      <td>4473048</td>\n      <td>482.061429</td>\n      <td>36</td>\n      <td>2</td>\n      <td>150000</td>\n      <td>9279</td>\n    </tr>\n    <tr>\n      <th>Category_033</th>\n      <td>42610000</td>\n      <td>23195.427327</td>\n      <td>10000</td>\n      <td>10000</td>\n      <td>200000</td>\n      <td>1837</td>\n    </tr>\n  </tbody>\n</table>\n</div>"
     },
     "execution_count": 31,
     "metadata": {},
     "output_type": "execute_result"
    }
   ],
   "source": [
    "data_df.pivot_table(values=\"Order_Demand\", index=\"Product_Category\", aggfunc=[np.sum, np.mean, np.median])"
   ]
  },
  {
   "cell_type": "code",
   "execution_count": 19,
   "metadata": {},
   "outputs": [],
   "source": [
    "print(data_df.dtypes)"
   ]
  },
  {
   "cell_type": "markdown",
   "metadata": {},
   "source": []
  }
 ],
 "metadata": {
  "kernelspec": {
   "display_name": "Python 3 (ipykernel)",
   "language": "python",
   "name": "python3"
  },
  "language_info": {
   "codemirror_mode": {
    "name": "ipython",
    "version": 3
   },
   "file_extension": ".py",
   "mimetype": "text/x-python",
   "name": "python",
   "nbconvert_exporter": "python",
   "pygments_lexer": "ipython3",
   "version": "3.9.6"
  }
 },
 "nbformat": 4,
 "nbformat_minor": 1
}
